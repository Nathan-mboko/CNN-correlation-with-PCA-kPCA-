{
 "cells": [
  {
   "cell_type": "code",
   "execution_count": 1,
   "id": "6060845e-9815-4f44-99d9-265035025739",
   "metadata": {},
   "outputs": [],
   "source": [
    "import numpy as np\n",
    "from PIL import Image\n",
    "from scipy.stats import pearsonr"
   ]
  },
  {
   "cell_type": "code",
   "execution_count": 2,
   "id": "39d6f409-3dde-4849-99d2-30a61868bf60",
   "metadata": {},
   "outputs": [],
   "source": [
    "def load_image(file_path):\n",
    "    \"\"\"Load an image and convert it to grayscale.\"\"\"\n",
    "    return np.array(Image.open(file_path).convert('L'))\n",
    "\n",
    "def zero_pad(image, target_shape):\n",
    "    \"\"\"Zero pad an image to match the target shape.\"\"\"\n",
    "    pad_width = [(0, target_shape[i] - image.shape[i]) for i in range(2)]\n",
    "    return np.pad(image, pad_width, mode='constant')\n",
    "\n",
    "def calculate_pearson_correlation(image1, image2):\n",
    "    \"\"\"Calculate Pearson correlation between two images.\"\"\"\n",
    "    flat_img1 = image1.flatten()\n",
    "    flat_img2 = image2.flatten()\n",
    "    correlation, _ = pearsonr(flat_img1, flat_img2)\n",
    "    return correlation\n",
    "\n",
    "def main(image_path1, image_path2):\n",
    "    # Load images\n",
    "    img1 = load_image(image_path1)\n",
    "    img2 = load_image(image_path2)\n",
    "    \n",
    "    # Determine the larger dimensions\n",
    "    max_height = max(img1.shape[0], img2.shape[0])\n",
    "    max_width = max(img1.shape[1], img2.shape[1])\n",
    "    target_shape = (max_height, max_width)\n",
    "    \n",
    "    # Zero pad images if necessary\n",
    "    if img1.shape != target_shape:\n",
    "        img1 = zero_pad(img1, target_shape)\n",
    "    if img2.shape != target_shape:\n",
    "        img2 = zero_pad(img2, target_shape)\n",
    "    \n",
    "    # Calculate Pearson correlation\n",
    "    correlation = calculate_pearson_correlation(img1, img2)\n",
    "    \n",
    "    print(f\"Pearson correlation between the images: {correlation}\")\n"
   ]
  },
  {
   "cell_type": "code",
   "execution_count": 3,
   "id": "fe1227a7-1990-4397-9036-86e108df5d35",
   "metadata": {},
   "outputs": [
    {
     "name": "stdout",
     "output_type": "stream",
     "text": [
      "Pearson correlation between the images: 0.18090489174683247\n"
     ]
    }
   ],
   "source": [
    "if __name__ == \"__main__\":\n",
    "    image_path1 = \"/home/nathan/Pictures/CNNiMAGE.png\"\n",
    "    image_path2 = \"/home/nathan/Pictures/PCAIMAGE.png\"\n",
    "    main(image_path1, image_path2)"
   ]
  },
  {
   "cell_type": "code",
   "execution_count": null,
   "id": "dd329176-0aaa-4181-bfc7-064f42f15fd4",
   "metadata": {},
   "outputs": [],
   "source": []
  }
 ],
 "metadata": {
  "kernelspec": {
   "display_name": "Python 3 (ipykernel)",
   "language": "python",
   "name": "python3"
  },
  "language_info": {
   "codemirror_mode": {
    "name": "ipython",
    "version": 3
   },
   "file_extension": ".py",
   "mimetype": "text/x-python",
   "name": "python",
   "nbconvert_exporter": "python",
   "pygments_lexer": "ipython3",
   "version": "3.9.19"
  }
 },
 "nbformat": 4,
 "nbformat_minor": 5
}
